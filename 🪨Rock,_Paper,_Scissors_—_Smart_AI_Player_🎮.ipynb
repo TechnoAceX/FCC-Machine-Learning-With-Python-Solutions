{
  "nbformat": 4,
  "nbformat_minor": 0,
  "metadata": {
    "colab": {
      "provenance": [],
      "authorship_tag": "ABX9TyPf2mVRj5y5VemZy4i4qLTO",
      "include_colab_link": true
    },
    "kernelspec": {
      "name": "python3",
      "display_name": "Python 3"
    },
    "language_info": {
      "name": "python"
    }
  },
  "cells": [
    {
      "cell_type": "markdown",
      "metadata": {
        "id": "view-in-github",
        "colab_type": "text"
      },
      "source": [
        "<a href=\"https://colab.research.google.com/github/TechnoAceX/FCC-Machine-Learning-With-Python-Solutions/blob/main/%F0%9F%AA%A8Rock%2C_Paper%2C_Scissors_%E2%80%94_Smart_AI_Player_%F0%9F%8E%AE.ipynb\" target=\"_parent\"><img src=\"https://colab.research.google.com/assets/colab-badge.svg\" alt=\"Open In Colab\"/></a>"
      ]
    },
    {
      "cell_type": "markdown",
      "source": [
        "**🪨📄✂️ Rock, Paper, Scissors — Smart AI Player 🎮**\n",
        "\n",
        "Welcome! 👋\n",
        "\n",
        "This notebook simulates the FreeCodeCamp Rock-Paper-Scissors AI challenge, where the goal is to create a smart player() function that can consistently beat four predefined bots: Quincy, Abbey, Kris, and Mrugesh.\n",
        "\n",
        "While random moves give a 50% win rate, our goal is to analyze opponent patterns and design an AI that achieves at least 60% win rate against each of them.\n",
        "\n",
        "This notebook includes:\n",
        "\n",
        "The full game environment (simulating FreeCodeCamp backend)\n",
        "Four opponent bots\n",
        "Our custom AI player logic\n",
        "A match simulator to test results over 1000 games per bot\n",
        "Let’s build a smart RPS player that not only wins — but learns from its opponent! 🧠✨\n",
        "\n"
      ],
      "metadata": {
        "id": "l7D23PzGl1EO"
      }
    },
    {
      "cell_type": "code",
      "execution_count": 5,
      "metadata": {
        "id": "sYDsx6WBlmb4"
      },
      "outputs": [],
      "source": [
        "# --- Simulate bots and environment like FreeCodeCamp ---\n",
        "\n",
        "import random\n",
        "\n",
        "# Opponent Bots\n",
        "def pawan(prev_opponent_play, opponent_history=[]):\n",
        "    sequence = [\"R\", \"P\", \"S\", \"R\", \"P\"]\n",
        "    opponent_history.append(prev_opponent_play)\n",
        "    return sequence[len(opponent_history) % len(sequence)]\n",
        "\n",
        "def keshav(prev_opponent_play, opponent_history=[]):\n",
        "    if not prev_opponent_play:\n",
        "        prev_opponent_play = \"R\"\n",
        "    opponent_history.append(prev_opponent_play)\n",
        "    last_two = \"\".join(opponent_history[-2:])\n",
        "    if len(last_two) < 2:\n",
        "        return \"R\"\n",
        "    elif last_two in [\"RR\", \"RS\", \"SS\"]:\n",
        "        return \"P\"\n",
        "    else:\n",
        "        return \"S\"\n",
        "\n",
        "def tanvi(prev_opponent_play):\n",
        "    return \"R\"\n",
        "\n",
        "def tarun(prev_opponent_play, opponent_history=[]):\n",
        "    if not prev_opponent_play:\n",
        "        prev_opponent_play = \"R\"\n",
        "    opponent_history.append(prev_opponent_play)\n",
        "    last_four = \"\".join(opponent_history[-4:])\n",
        "    if len(last_four) < 4:\n",
        "        return \"R\"\n",
        "    elif last_four in [\"RRRR\", \"RRRS\", \"RRSR\"]:\n",
        "        return \"P\"\n",
        "    else:\n",
        "        return \"S\""
      ]
    },
    {
      "cell_type": "code",
      "source": [
        "# --- Your player function goes here ---\n",
        "def player(prev_play, opponent_history=[]):\n",
        "    if prev_play:\n",
        "        opponent_history.append(prev_play)\n",
        "\n",
        "    if len(opponent_history) < 3:\n",
        "        return \"R\"\n",
        "\n",
        "    count = {\"R\": 0, \"P\": 0, \"S\": 0}\n",
        "    for move in opponent_history:\n",
        "        count[move] += 1\n",
        "\n",
        "    prediction = max(count, key=count.get)\n",
        "    counter = {\"R\": \"P\", \"P\": \"S\", \"S\": \"R\"}\n",
        "    return counter[prediction]"
      ],
      "metadata": {
        "id": "to2EO2wsmw9A"
      },
      "execution_count": 6,
      "outputs": []
    },
    {
      "cell_type": "code",
      "source": [
        "# --- Game Engine ---\n",
        "\n",
        "def play(player1, player2, num_games=1000, verbose=False):\n",
        "    p1_prev = \"\"\n",
        "    p2_prev = \"\"\n",
        "    p1_score = 0\n",
        "    p2_score = 0\n",
        "    outcomes = {\"R\": \"S\", \"P\": \"R\", \"S\": \"P\"}\n",
        "\n",
        "    for i in range(num_games):\n",
        "        p1_move = player1(p2_prev)\n",
        "        p2_move = player2(p1_prev)\n",
        "\n",
        "        if p1_move == p2_move:\n",
        "            result = \"Tie\"\n",
        "        elif outcomes[p1_move] == p2_move:\n",
        "            p1_score += 1\n",
        "            result = \"Player 1 wins\"\n",
        "        else:\n",
        "            p2_score += 1\n",
        "            result = \"Player 2 wins\"\n",
        "\n",
        "        if verbose:\n",
        "            print(f\"Game {i+1}: P1: {p1_move} | P2: {p2_move} --> {result}\")\n",
        "\n",
        "        p1_prev = p1_move\n",
        "        p2_prev = p2_move\n",
        "\n",
        "    win_rate = round((p1_score / num_games) * 100, 2)\n",
        "    print(f\"\\n🏁 Player 1 Win Rate: {win_rate}% out of {num_games} games\")\n",
        "    return win_rate\n"
      ],
      "metadata": {
        "id": "dmkLhs6pm_GL"
      },
      "execution_count": 7,
      "outputs": []
    },
    {
      "cell_type": "markdown",
      "source": [
        "## Smarter player() That Aims for 70%+"
      ],
      "metadata": {
        "id": "t09jj1nTpao0"
      }
    },
    {
      "cell_type": "code",
      "source": [
        "def player(prev_play, opponent_history=[], guess_table={}):\n",
        "    if prev_play:\n",
        "        opponent_history.append(prev_play)\n",
        "\n",
        "    # Always play 'P' for the first few rounds to gather data\n",
        "    if len(opponent_history) < 5:\n",
        "        return \"P\"\n",
        "\n",
        "    # Track move patterns in a dictionary (like a Markov chain)\n",
        "    last3 = \"\".join(opponent_history[-3:])\n",
        "    if last3 in guess_table:\n",
        "        guess_table[last3] += 1\n",
        "    else:\n",
        "        guess_table[last3] = 1\n",
        "\n",
        "    # Try to find the most frequent 3-move pattern and predict the next move\n",
        "    pattern_counts = {}\n",
        "    for i in range(len(opponent_history) - 3):\n",
        "        pattern = \"\".join(opponent_history[i:i+3])\n",
        "        next_move = opponent_history[i+3]\n",
        "        if pattern not in pattern_counts:\n",
        "            pattern_counts[pattern] = {\"R\": 0, \"P\": 0, \"S\": 0}\n",
        "        pattern_counts[pattern][next_move] += 1\n",
        "\n",
        "    if last3 in pattern_counts:\n",
        "        prediction = max(pattern_counts[last3], key=pattern_counts[last3].get)\n",
        "    else:\n",
        "        # Fallback to frequency-based prediction\n",
        "        freq = {\"R\": 0, \"P\": 0, \"S\": 0}\n",
        "        for move in opponent_history:\n",
        "            freq[move] += 1\n",
        "        prediction = max(freq, key=freq.get)\n",
        "\n",
        "    # Return the move that beats the prediction\n",
        "    counter = {\"R\": \"P\", \"P\": \"S\", \"S\": \"R\"}\n",
        "    return counter[prediction]\n"
      ],
      "metadata": {
        "id": "y25NhFKDpbti"
      },
      "execution_count": 12,
      "outputs": []
    },
    {
      "cell_type": "code",
      "source": [
        "# --- Run matches against your custom bots with better emojis ---\n",
        "\n",
        "print(\"🧠 Testing against 🧔‍♂️ Pawan — The Pattern Master\")\n",
        "play(player, pawan, 1000)\n",
        "\n",
        "print(\"\\n🧠 Testing against 🧙‍♂️ Keshav — The Trickster\")\n",
        "play(player, keshav, 1000)\n",
        "\n",
        "print(\"\\n🧠 Testing against 💎 Tanvi — The Crystal Mind\")\n",
        "play(player, tanvi, 1000)\n",
        "\n",
        "print(\"\\n🧠 Testing against 🕵️‍♂️ Tarun — The Analyzer\")\n",
        "play(player, tarun, 1000)\n"
      ],
      "metadata": {
        "colab": {
          "base_uri": "https://localhost:8080/"
        },
        "id": "YojUX6IdnHFK",
        "outputId": "a5e8fb2c-4769-4176-b6c9-816edcde4c10"
      },
      "execution_count": 14,
      "outputs": [
        {
          "output_type": "stream",
          "name": "stdout",
          "text": [
            "🧠 Testing against 🧔‍♂️ Pawan — The Pattern Master\n",
            "\n",
            "🏁 Player 1 Win Rate: 99.7% out of 1000 games\n",
            "\n",
            "🧠 Testing against 🧙‍♂️ Keshav — The Trickster\n",
            "\n",
            "🏁 Player 1 Win Rate: 99.7% out of 1000 games\n",
            "\n",
            "🧠 Testing against 💎 Tanvi — The Crystal Mind\n",
            "\n",
            "🏁 Player 1 Win Rate: 99.9% out of 1000 games\n",
            "\n",
            "🧠 Testing against 🕵️‍♂️ Tarun — The Analyzer\n",
            "\n",
            "🏁 Player 1 Win Rate: 75.0% out of 1000 games\n"
          ]
        },
        {
          "output_type": "execute_result",
          "data": {
            "text/plain": [
              "75.0"
            ]
          },
          "metadata": {},
          "execution_count": 14
        }
      ]
    }
  ]
}