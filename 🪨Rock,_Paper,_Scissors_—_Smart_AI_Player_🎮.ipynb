{
  "nbformat": 4,
  "nbformat_minor": 0,
  "metadata": {
    "colab": {
      "provenance": [],
      "authorship_tag": "ABX9TyPu+BzpI1etD+dAUaU1Qco3",
      "include_colab_link": true
    },
    "kernelspec": {
      "name": "python3",
      "display_name": "Python 3"
    },
    "language_info": {
      "name": "python"
    }
  },
  "cells": [
    {
      "cell_type": "markdown",
      "metadata": {
        "id": "view-in-github",
        "colab_type": "text"
      },
      "source": [
        "<a href=\"https://colab.research.google.com/github/TechnoAceX/FCC-Machine-Learning-With-Python-Solutions/blob/main/%F0%9F%AA%A8Rock%2C_Paper%2C_Scissors_%E2%80%94_Smart_AI_Player_%F0%9F%8E%AE.ipynb\" target=\"_parent\"><img src=\"https://colab.research.google.com/assets/colab-badge.svg\" alt=\"Open In Colab\"/></a>"
      ]
    },
    {
      "cell_type": "markdown",
      "source": [
        "**🪨📄✂️ Rock, Paper, Scissors — Smart AI Player 🎮**\n",
        "\n",
        "Welcome! 👋\n",
        "\n",
        "This notebook simulates the FreeCodeCamp Rock-Paper-Scissors AI challenge, where the goal is to create a smart player() function that can consistently beat four predefined bots: Quincy, Abbey, Kris, and Mrugesh.\n",
        "\n",
        "While random moves give a 50% win rate, our goal is to analyze opponent patterns and design an AI that achieves at least 60% win rate against each of them.\n",
        "\n",
        "This notebook includes:\n",
        "\n",
        "The full game environment (simulating FreeCodeCamp backend)\n",
        "Four opponent bots\n",
        "Our custom AI player logic\n",
        "A match simulator to test results over 1000 games per bot\n",
        "Let’s build a smart RPS player that not only wins — but learns from its opponent! 🧠✨\n",
        "\n"
      ],
      "metadata": {
        "id": "l7D23PzGl1EO"
      }
    },
    {
      "cell_type": "code",
      "execution_count": null,
      "metadata": {
        "id": "sYDsx6WBlmb4"
      },
      "outputs": [],
      "source": []
    }
  ]
}