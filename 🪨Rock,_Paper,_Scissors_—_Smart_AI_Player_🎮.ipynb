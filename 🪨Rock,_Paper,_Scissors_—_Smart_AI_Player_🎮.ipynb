{
  "nbformat": 4,
  "nbformat_minor": 0,
  "metadata": {
    "colab": {
      "provenance": [],
      "authorship_tag": "ABX9TyOv7LG+9YaBSek9NNDPyHeY",
      "include_colab_link": true
    },
    "kernelspec": {
      "name": "python3",
      "display_name": "Python 3"
    },
    "language_info": {
      "name": "python"
    }
  },
  "cells": [
    {
      "cell_type": "markdown",
      "metadata": {
        "id": "view-in-github",
        "colab_type": "text"
      },
      "source": [
        "<a href=\"https://colab.research.google.com/github/TechnoAceX/FCC-Machine-Learning-With-Python-Solutions/blob/main/%F0%9F%AA%A8Rock%2C_Paper%2C_Scissors_%E2%80%94_Smart_AI_Player_%F0%9F%8E%AE.ipynb\" target=\"_parent\"><img src=\"https://colab.research.google.com/assets/colab-badge.svg\" alt=\"Open In Colab\"/></a>"
      ]
    },
    {
      "cell_type": "markdown",
      "source": [
        "**🪨📄✂️ Rock, Paper, Scissors — Smart AI Player 🎮**\n",
        "\n",
        "Welcome! 👋\n",
        "\n",
        "This notebook simulates the FreeCodeCamp Rock-Paper-Scissors AI challenge, where the goal is to create a smart player() function that can consistently beat four predefined bots: Quincy, Abbey, Kris, and Mrugesh.\n",
        "\n",
        "While random moves give a 50% win rate, our goal is to analyze opponent patterns and design an AI that achieves at least 60% win rate against each of them.\n",
        "\n",
        "This notebook includes:\n",
        "\n",
        "The full game environment (simulating FreeCodeCamp backend)\n",
        "Four opponent bots\n",
        "Our custom AI player logic\n",
        "A match simulator to test results over 1000 games per bot\n",
        "Let’s build a smart RPS player that not only wins — but learns from its opponent! 🧠✨\n",
        "\n"
      ],
      "metadata": {
        "id": "l7D23PzGl1EO"
      }
    },
    {
      "cell_type": "code",
      "execution_count": 1,
      "metadata": {
        "id": "sYDsx6WBlmb4"
      },
      "outputs": [],
      "source": [
        "# --- Simulate bots and environment like FreeCodeCamp ---\n",
        "\n",
        "import random\n",
        "\n",
        "# Opponent Bots\n",
        "def quincy(prev_opponent_play, opponent_history=[]):\n",
        "    options = [\"R\", \"P\", \"S\"]\n",
        "    sequence = [\"R\", \"P\", \"S\", \"R\", \"P\"]\n",
        "    if not opponent_history:\n",
        "        opponent_history.append(prev_opponent_play)\n",
        "    else:\n",
        "        opponent_history.append(prev_opponent_play)\n",
        "    return sequence[len(opponent_history) % len(sequence)]\n",
        "\n",
        "def abbey(prev_opponent_play, opponent_history=[]):\n",
        "    if not prev_opponent_play:\n",
        "        prev_opponent_play = \"R\"\n",
        "    opponent_history.append(prev_opponent_play)\n",
        "    last_two = \"\".join(opponent_history[-2:])\n",
        "    if len(last_two) < 2:\n",
        "        guess = \"R\"\n",
        "    elif last_two in [\"RR\", \"RS\", \"SS\"]:\n",
        "        guess = \"P\"\n",
        "    else:\n",
        "        guess = \"S\"\n",
        "    return guess\n",
        "\n",
        "def kris(prev_opponent_play):\n",
        "    return \"R\"\n",
        "\n",
        "def mrugesh(prev_opponent_play, opponent_history=[]):\n",
        "    if not prev_opponent_play:\n",
        "        prev_opponent_play = \"R\"\n",
        "    opponent_history.append(prev_opponent_play)\n",
        "    last_four = \"\".join(opponent_history[-4:])\n",
        "    if len(last_four) < 4:\n",
        "        guess = \"R\"\n",
        "    elif last_four in [\"RRRR\", \"RRRS\", \"RRSR\"]:\n",
        "        guess = \"P\"\n",
        "    else:\n",
        "        guess = \"S\"\n",
        "    return guess\n"
      ]
    },
    {
      "cell_type": "code",
      "source": [
        "# --- Your player function goes here ---\n",
        "def player(prev_play, opponent_history=[]):\n",
        "    if prev_play:\n",
        "        opponent_history.append(prev_play)\n",
        "\n",
        "    if len(opponent_history) < 3:\n",
        "        return \"R\"\n",
        "\n",
        "    count = {\"R\": 0, \"P\": 0, \"S\": 0}\n",
        "    for move in opponent_history:\n",
        "        count[move] += 1\n",
        "\n",
        "    prediction = max(count, key=count.get)\n",
        "    counter_moves = {\"R\": \"P\", \"P\": \"S\", \"S\": \"R\"}\n",
        "    return counter_moves[prediction]"
      ],
      "metadata": {
        "id": "to2EO2wsmw9A"
      },
      "execution_count": 2,
      "outputs": []
    },
    {
      "cell_type": "code",
      "source": [
        "# --- Game Simulator ---\n",
        "def play(player1, player2, num_games=1000, verbose=False):\n",
        "    p1_prev = \"\"\n",
        "    p2_prev = \"\"\n",
        "    p1_score = 0\n",
        "    p2_score = 0\n",
        "\n",
        "    outcomes = {\"R\": \"S\", \"P\": \"R\", \"S\": \"P\"}\n",
        "\n",
        "    for i in range(num_games):\n",
        "        p1_move = player1(p2_prev)\n",
        "        p2_move = player2(p1_prev)\n",
        "\n",
        "        if p1_move == p2_move:\n",
        "            result = \"Tie\"\n",
        "        elif outcomes[p1_move] == p2_move:\n",
        "            p1_score += 1\n",
        "            result = \"Player 1 wins\"\n",
        "        else:\n",
        "            p2_score += 1\n",
        "            result = \"Player 2 wins\"\n",
        "\n",
        "        if verbose:\n",
        "            print(f\"Game {i+1}: P1: {p1_move} | P2: {p2_move} --> {result}\")\n",
        "\n",
        "        p1_prev = p1_move\n",
        "        p2_prev = p2_move\n",
        "\n",
        "    win_rate = round((p1_score / num_games) * 100, 2)\n",
        "    print(f\"\\n🏁 Player 1 Win Rate: {win_rate}% out of {num_games} games\")\n",
        "\n",
        "    return win_rate\n"
      ],
      "metadata": {
        "id": "dmkLhs6pm_GL"
      },
      "execution_count": 3,
      "outputs": []
    }
  ]
}