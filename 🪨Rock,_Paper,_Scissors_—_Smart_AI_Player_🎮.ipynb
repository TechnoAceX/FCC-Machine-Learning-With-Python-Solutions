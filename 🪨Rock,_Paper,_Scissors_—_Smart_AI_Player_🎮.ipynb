{
  "nbformat": 4,
  "nbformat_minor": 0,
  "metadata": {
    "colab": {
      "provenance": [],
      "authorship_tag": "ABX9TyMl1KoTPx3CceVe7hzkVxZ2",
      "include_colab_link": true
    },
    "kernelspec": {
      "name": "python3",
      "display_name": "Python 3"
    },
    "language_info": {
      "name": "python"
    }
  },
  "cells": [
    {
      "cell_type": "markdown",
      "metadata": {
        "id": "view-in-github",
        "colab_type": "text"
      },
      "source": [
        "<a href=\"https://colab.research.google.com/github/TechnoAceX/FCC-Machine-Learning-With-Python-Solutions/blob/main/%F0%9F%AA%A8Rock%2C_Paper%2C_Scissors_%E2%80%94_Smart_AI_Player_%F0%9F%8E%AE.ipynb\" target=\"_parent\"><img src=\"https://colab.research.google.com/assets/colab-badge.svg\" alt=\"Open In Colab\"/></a>"
      ]
    },
    {
      "cell_type": "markdown",
      "source": [
        "**🪨📄✂️ Rock, Paper, Scissors — Smart AI Player 🎮**\n",
        "\n",
        "Welcome! 👋\n",
        "\n",
        "This notebook simulates the FreeCodeCamp Rock-Paper-Scissors AI challenge, where the goal is to create a smart player() function that can consistently beat four predefined bots: Quincy, Abbey, Kris, and Mrugesh.\n",
        "\n",
        "While random moves give a 50% win rate, our goal is to analyze opponent patterns and design an AI that achieves at least 60% win rate against each of them.\n",
        "\n",
        "This notebook includes:\n",
        "\n",
        "The full game environment (simulating FreeCodeCamp backend)\n",
        "Four opponent bots\n",
        "Our custom AI player logic\n",
        "A match simulator to test results over 1000 games per bot\n",
        "Let’s build a smart RPS player that not only wins — but learns from its opponent! 🧠✨\n",
        "\n"
      ],
      "metadata": {
        "id": "l7D23PzGl1EO"
      }
    },
    {
      "cell_type": "code",
      "execution_count": 1,
      "metadata": {
        "id": "sYDsx6WBlmb4"
      },
      "outputs": [],
      "source": [
        "# --- Simulate bots and environment like FreeCodeCamp ---\n",
        "\n",
        "import random\n",
        "\n",
        "# Opponent Bots\n",
        "def quincy(prev_opponent_play, opponent_history=[]):\n",
        "    options = [\"R\", \"P\", \"S\"]\n",
        "    sequence = [\"R\", \"P\", \"S\", \"R\", \"P\"]\n",
        "    if not opponent_history:\n",
        "        opponent_history.append(prev_opponent_play)\n",
        "    else:\n",
        "        opponent_history.append(prev_opponent_play)\n",
        "    return sequence[len(opponent_history) % len(sequence)]\n",
        "\n",
        "def abbey(prev_opponent_play, opponent_history=[]):\n",
        "    if not prev_opponent_play:\n",
        "        prev_opponent_play = \"R\"\n",
        "    opponent_history.append(prev_opponent_play)\n",
        "    last_two = \"\".join(opponent_history[-2:])\n",
        "    if len(last_two) < 2:\n",
        "        guess = \"R\"\n",
        "    elif last_two in [\"RR\", \"RS\", \"SS\"]:\n",
        "        guess = \"P\"\n",
        "    else:\n",
        "        guess = \"S\"\n",
        "    return guess\n",
        "\n",
        "def kris(prev_opponent_play):\n",
        "    return \"R\"\n",
        "\n",
        "def mrugesh(prev_opponent_play, opponent_history=[]):\n",
        "    if not prev_opponent_play:\n",
        "        prev_opponent_play = \"R\"\n",
        "    opponent_history.append(prev_opponent_play)\n",
        "    last_four = \"\".join(opponent_history[-4:])\n",
        "    if len(last_four) < 4:\n",
        "        guess = \"R\"\n",
        "    elif last_four in [\"RRRR\", \"RRRS\", \"RRSR\"]:\n",
        "        guess = \"P\"\n",
        "    else:\n",
        "        guess = \"S\"\n",
        "    return guess\n"
      ]
    },
    {
      "cell_type": "code",
      "source": [
        "# --- Your player function goes here ---\n",
        "def player(prev_play, opponent_history=[]):\n",
        "    if prev_play:\n",
        "        opponent_history.append(prev_play)\n",
        "\n",
        "    if len(opponent_history) < 3:\n",
        "        return \"R\"\n",
        "\n",
        "    count = {\"R\": 0, \"P\": 0, \"S\": 0}\n",
        "    for move in opponent_history:\n",
        "        count[move] += 1\n",
        "\n",
        "    prediction = max(count, key=count.get)\n",
        "    counter_moves = {\"R\": \"P\", \"P\": \"S\", \"S\": \"R\"}\n",
        "    return counter_moves[prediction]"
      ],
      "metadata": {
        "id": "to2EO2wsmw9A"
      },
      "execution_count": 2,
      "outputs": []
    }
  ]
}